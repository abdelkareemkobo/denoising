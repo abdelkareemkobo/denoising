{
 "cells": [
  {
   "cell_type": "code",
   "execution_count": 2,
   "metadata": {},
   "outputs": [
    {
     "data": {
      "text/plain": [
       "['Salt&pepper',\n",
       " 'possion',\n",
       " 'Gaussian&speckle',\n",
       " 'Noise_free',\n",
       " 'speckle',\n",
       " 'speckle&salt']"
      ]
     },
     "execution_count": 2,
     "metadata": {},
     "output_type": "execute_result"
    }
   ],
   "source": [
    "import os\n",
    "os.listdir(\"./Simulated_data_sennd\")"
   ]
  },
  {
   "cell_type": "code",
   "execution_count": 4,
   "metadata": {},
   "outputs": [
    {
     "data": {
      "text/plain": [
       "172"
      ]
     },
     "execution_count": 4,
     "metadata": {},
     "output_type": "execute_result"
    }
   ],
   "source": [
    "len(\n",
    "    os.listdir(\"/home/kareem/hacking/research/AI_Love/denoising/noise2noise_data/train/clean\")\n",
    ")"
   ]
  },
  {
   "cell_type": "code",
   "execution_count": 3,
   "metadata": {},
   "outputs": [
    {
     "name": "stdout",
     "output_type": "stream",
     "text": [
      "Clean image not found for poisson.m. Skipping...\n",
      "Data preprocessing complete.\n"
     ]
    }
   ],
   "source": [
    "import os\n",
    "import shutil\n",
    "import random\n",
    "\n",
    "# Paths to your noise folders and clean folder\n",
    "dataset_dir = \"/home/kareem/hacking/research/AI_Love/denoising/Simulated_data_sennd\"\n",
    "output_dir = \"/home/kareem/hacking/research/AI_Love/denoising/noise2noise_data\"\n",
    "\n",
    "train_pct = 0.8\n",
    "valid_pct = 0.1\n",
    "test_pct = 0.1\n",
    "\n",
    "# Noise types based on your folder names\n",
    "noise_types = [\"Salt&pepper\", \"possion\", \"Gaussian&speckle\", \"speckle\", \"speckle&salt\"]\n",
    "clean_folder = \"Noise_free\"\n",
    "\n",
    "# Create output directories for train, valid, and test\n",
    "for split in [\"train\", \"valid\", \"test\"]:\n",
    "    os.makedirs(os.path.join(output_dir, split, \"noisy\"), exist_ok=True)\n",
    "    os.makedirs(os.path.join(output_dir, split, \"clean\"), exist_ok=True)\n",
    "\n",
    "\n",
    "# Function to move images to the train, valid, test directories\n",
    "def split_data(images, train_ratio, valid_ratio):\n",
    "    random.shuffle(images)\n",
    "    total = len(images)\n",
    "    train_images = images[: int(train_ratio * total)]\n",
    "    valid_images = images[\n",
    "        int(train_ratio * total) : int((train_ratio + valid_ratio) * total)\n",
    "    ]\n",
    "    test_images = images[int((train_ratio + valid_ratio) * total) :]\n",
    "    return train_images, valid_images, test_images\n",
    "\n",
    "\n",
    "# Copy images to the respective directories\n",
    "def copy_images(image_list, noise_type, split, output_dir):\n",
    "    for image in image_list:\n",
    "        noisy_image_path = os.path.join(dataset_dir, noise_type, image)\n",
    "        clean_image_path = os.path.join(dataset_dir, clean_folder, image)\n",
    "\n",
    "        # Check if the clean image exists\n",
    "        if os.path.exists(clean_image_path):\n",
    "            # Copy noisy and clean images to the correct folder\n",
    "            shutil.copy(\n",
    "                noisy_image_path, os.path.join(output_dir, split, \"noisy\", image)\n",
    "            )\n",
    "            shutil.copy(\n",
    "                clean_image_path, os.path.join(output_dir, split, \"clean\", image)\n",
    "            )\n",
    "        else:\n",
    "            print(f\"Clean image not found for {image}. Skipping...\")\n",
    "\n",
    "\n",
    "# Loop through each noise type\n",
    "for noise_type in noise_types:\n",
    "    noise_images = os.listdir(os.path.join(dataset_dir, noise_type))\n",
    "\n",
    "    # Split the images\n",
    "    train_images, valid_images, test_images = split_data(\n",
    "        noise_images, train_pct, valid_pct\n",
    "    )\n",
    "\n",
    "    # Copy images to the respective train, valid, test directories\n",
    "    copy_images(train_images, noise_type, \"train\", output_dir)\n",
    "    copy_images(valid_images, noise_type, \"valid\", output_dir)\n",
    "    copy_images(test_images, noise_type, \"test\", output_dir)\n",
    "\n",
    "print(\"Data preprocessing complete.\")"
   ]
  },
  {
   "cell_type": "markdown",
   "metadata": {},
   "source": []
  }
 ],
 "metadata": {
  "kernelspec": {
   "display_name": "dinov2",
   "language": "python",
   "name": "python3"
  },
  "language_info": {
   "codemirror_mode": {
    "name": "ipython",
    "version": 3
   },
   "file_extension": ".py",
   "mimetype": "text/x-python",
   "name": "python",
   "nbconvert_exporter": "python",
   "pygments_lexer": "ipython3",
   "version": "3.10.14"
  }
 },
 "nbformat": 4,
 "nbformat_minor": 2
}
